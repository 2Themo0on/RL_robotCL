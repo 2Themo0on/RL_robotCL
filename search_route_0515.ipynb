{
  "cells": [
    {
      "cell_type": "code",
      "execution_count": 1,
      "metadata": {},
      "outputs": [
        {
          "name": "stdout",
          "output_type": "stream",
          "text": [
            "1\n"
          ]
        }
      ],
      "source": [
        "print(1)"
      ]
    },
    {
      "cell_type": "code",
      "execution_count": 9,
      "metadata": {
        "id": "eeTbmo4Ev80D"
      },
      "outputs": [],
      "source": [
        "import pandas as pd\n",
        "import numpy as np\n",
        "import random\n",
        "import math\n",
        "import gym\n",
        "from gym import spaces\n",
        "import matplotlib.pyplot as plt\n",
        "\n"
      ]
    },
    {
      "cell_type": "code",
      "execution_count": 6,
      "metadata": {},
      "outputs": [],
      "source": [
        "class SimpleMazeEnv(gym.Env):\n",
        "    def __init__(self):\n",
        "        super(SimpleMazeEnv, self).__init__() # ?\n",
        "        self.maze = np.array([\n",
        "            [0, 1, 0, 0, 0],\n",
        "            [0, 1, 0, 1, 0],\n",
        "            [0, 0, 0, 1, 0],\n",
        "            [1, 1, 0, 1, 0],\n",
        "            [0, 0, 0, 0, 0]\n",
        "        ])\n",
        "        self.start_state = (0, 0)\n",
        "        self.goal_state = (4, 4)\n",
        "        self.state = self.start_state\n",
        "\n",
        "        self.action_space = spaces.Discrete(4)\n",
        "        self.observation_space = spaces.Box(low=0, high=1, shape=self.maze.shape, dtype=int)\n",
        "\n",
        "    def reset(self):\n",
        "        self.state = self.start_state\n",
        "        return self.state\n",
        "\n",
        "    def step(self, action):\n",
        "        x, y = self.state\n",
        "        if action == 0:  # Up\n",
        "            x = max(0, x - 1)\n",
        "        elif action == 1:  # Down\n",
        "            x = min(self.maze.shape[0] - 1, x + 1)\n",
        "        elif action == 2:  # Left\n",
        "            y = max(0, y - 1)\n",
        "        elif action == 3:  # Right\n",
        "            y = min(self.maze.shape[1] - 1, y + 1)\n",
        "\n",
        "        if self.maze[x, y] == 1:\n",
        "            x, y = self.state  # Hit a wall, stay in place\n",
        "\n",
        "        self.state = (x, y)\n",
        "        done = self.state == self.goal_state\n",
        "        reward = 1 if done else -0.1\n",
        "\n",
        "        return self.state, reward, done, {}\n",
        "\n",
        "    def render(self, mode='human'):\n",
        "        maze_copy = self.maze.copy()\n",
        "        maze_copy[self.state] = 2\n",
        "        print(maze_copy)\n",
        "\n",
        "env = SimpleMazeEnv()"
      ]
    },
    {
      "cell_type": "code",
      "execution_count": 7,
      "metadata": {},
      "outputs": [],
      "source": [
        "# Q-러닝 파라미터\n",
        "alpha = 0.1\n",
        "gamma = 0.6\n",
        "epsilon = 0.1\n",
        "num_episodes = 1000\n",
        "\n",
        "# Q-테이블 초기화\n",
        "q_table = np.zeros((env.maze.shape[0], env.maze.shape[1], env.action_space.n))\n",
        "\n",
        "# Q-러닝 알고리즘\n",
        "def q_learning(env, q_table, alpha, gamma, epsilon, num_episodes):\n",
        "    rewards = []\n",
        "\n",
        "    for episode in range(num_episodes):\n",
        "        state = env.reset()\n",
        "        total_reward = 0\n",
        "        done = False\n",
        "\n",
        "        while not done:\n",
        "            if random.uniform(0, 1) < epsilon:\n",
        "                action = env.action_space.sample()  # Exploration\n",
        "            else:\n",
        "                action = np.argmax(q_table[state[0], state[1]])  # Exploitation\n",
        "\n",
        "            next_state, reward, done, _ = env.step(action)\n",
        "\n",
        "            old_value = q_table[state[0], state[1], action]\n",
        "            next_max = np.max(q_table[next_state[0], next_state[1]])\n",
        "\n",
        "            new_value = old_value + alpha * (reward + gamma * next_max - old_value)\n",
        "            q_table[state[0], state[1], action] = new_value\n",
        "\n",
        "            state = next_state\n",
        "            total_reward += reward\n",
        "\n",
        "        rewards.append(total_reward)\n",
        "\n",
        "    return rewards\n",
        "\n",
        "rewards = q_learning(env, q_table, alpha, gamma, epsilon, num_episodes)"
      ]
    },
    {
      "cell_type": "code",
      "execution_count": 10,
      "metadata": {},
      "outputs": [
        {
          "name": "stdout",
          "output_type": "stream",
          "text": [
            "[[2 1 0 0 0]\n",
            " [0 1 0 1 0]\n",
            " [0 0 0 1 0]\n",
            " [1 1 0 1 0]\n",
            " [0 0 0 0 0]]\n",
            "[[0 1 0 0 0]\n",
            " [2 1 0 1 0]\n",
            " [0 0 0 1 0]\n",
            " [1 1 0 1 0]\n",
            " [0 0 0 0 0]]\n",
            "[[0 1 0 0 0]\n",
            " [0 1 0 1 0]\n",
            " [2 0 0 1 0]\n",
            " [1 1 0 1 0]\n",
            " [0 0 0 0 0]]\n",
            "[[0 1 0 0 0]\n",
            " [0 1 0 1 0]\n",
            " [0 2 0 1 0]\n",
            " [1 1 0 1 0]\n",
            " [0 0 0 0 0]]\n",
            "[[0 1 0 0 0]\n",
            " [0 1 0 1 0]\n",
            " [0 0 2 1 0]\n",
            " [1 1 0 1 0]\n",
            " [0 0 0 0 0]]\n",
            "[[0 1 0 0 0]\n",
            " [0 1 0 1 0]\n",
            " [0 0 0 1 0]\n",
            " [1 1 2 1 0]\n",
            " [0 0 0 0 0]]\n",
            "[[0 1 0 0 0]\n",
            " [0 1 0 1 0]\n",
            " [0 0 0 1 0]\n",
            " [1 1 0 1 0]\n",
            " [0 0 2 0 0]]\n",
            "[[0 1 0 0 0]\n",
            " [0 1 0 1 0]\n",
            " [0 0 0 1 0]\n",
            " [1 1 0 1 0]\n",
            " [0 0 0 2 0]]\n",
            "[[0 1 0 0 0]\n",
            " [0 1 0 1 0]\n",
            " [0 0 0 1 0]\n",
            " [1 1 0 1 0]\n",
            " [0 0 0 0 2]]\n"
          ]
        },
        {
          "data": {
            "text/plain": [
              "[<matplotlib.lines.Line2D at 0x234bdbd2d10>]"
            ]
          },
          "execution_count": 10,
          "metadata": {},
          "output_type": "execute_result"
        },
        {
          "data": {
            "text/plain": [
              "Text(0.5, 0, 'Episode')"
            ]
          },
          "execution_count": 10,
          "metadata": {},
          "output_type": "execute_result"
        },
        {
          "data": {
            "text/plain": [
              "Text(0, 0.5, 'Total Reward')"
            ]
          },
          "execution_count": 10,
          "metadata": {},
          "output_type": "execute_result"
        },
        {
          "data": {
            "image/png": "[encoded data removed]",
            "text/plain": [
              "<Figure size 640x480 with 1 Axes>"
            ]
          },
          "metadata": {},
          "output_type": "display_data"
        }
      ],
      "source": [
        "# Cell 3: 학습 결과 확인 및 시각화\n",
        "# 학습 후 경로 확인\n",
        "state = env.reset()\n",
        "done = False\n",
        "env.render()\n",
        "\n",
        "while not done:\n",
        "    action = np.argmax(q_table[state[0], state[1]])\n",
        "    state, _, done, _ = env.step(action)\n",
        "    env.render()\n",
        "\n",
        "# 보상 그래프 출력\n",
        "plt.plot(rewards)\n",
        "plt.xlabel('Episode')\n",
        "plt.ylabel('Total Reward')\n",
        "plt.show()"
      ]
    },
    {
      "cell_type": "code",
      "execution_count": null,
      "metadata": {},
      "outputs": [],
      "source": []
    }
  ],
  "metadata": {
    "colab": {
      "provenance": []
    },
    "kernelspec": {
      "display_name": "Python 3",
      "name": "python3"
    },
    "language_info": {
      "codemirror_mode": {
        "name": "ipython",
        "version": 3
      },
      "file_extension": ".py",
      "mimetype": "text/x-python",
      "name": "python",
      "nbconvert_exporter": "python",
      "pygments_lexer": "ipython3",
      "version": "3.10.14"
    }
  },
  "nbformat": 4,
  "nbformat_minor": 0
}
