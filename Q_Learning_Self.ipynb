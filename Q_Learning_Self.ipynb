{
  "nbformat": 4,
  "nbformat_minor": 0,
  "metadata": {
    "colab": {
      "provenance": []
    },
    "kernelspec": {
      "name": "python3",
      "display_name": "Python 3"
    },
    "language_info": {
      "name": "python"
    }
  },
  "cells": [
    {
      "cell_type": "code",
      "execution_count": 7,
      "metadata": {
        "id": "-6840slHV8Em"
      },
      "outputs": [],
      "source": [
        "import numpy as np\n",
        "import random\n",
        "from tqdm import tqdm"
      ]
    },
    {
      "cell_type": "code",
      "source": [
        "class Grid:                                                 # Grid Class 정의\n",
        "    def __init__(self,w,h,x_start,y_start,x_goal,y_goal):   # Grid의 가로, 세로, 시작 좌표와 목표 좌표를 parameter로 받음\n",
        "        self.x_start = x_start\n",
        "        self.y_start = y_start\n",
        "        self.w = w\n",
        "        self.h = h\n",
        "\n",
        "        self.grid = np.zeros((h,w))             # h*w\n",
        "        self.state = (x_start,y_start)          # 지금 위치를 시작 좌표로 설정\n",
        "        self.goal_state = (x_goal,y_goal)       # 목표 좌표 설정\n",
        "        self.grid[self.goal_state] = 100        # 목표 좌표의 Reward를 100으로 설정\n",
        "        self.actions = ['up','down','left','right'] # Agent의 행동들\n",
        "\n",
        "    def reset(self):                                # Grid reset\n",
        "        self.state = (self.x_start,self.y_start)    # 지금 위치를 시작 좌표로 설정\n",
        "        return self.state                           # 지금 위치를 반환\n",
        "\n",
        "    def step(self,action):          # Agent의 행동 정의\n",
        "        x,y = self.state            # 지금 위치를 x,y에 할당\n",
        "        if action == 'up':\n",
        "            x = max(0,x-1)          # 위로 이동, x 좌표가 1 감소, Grid를 벗어나면 이동하지 않음\n",
        "        elif action == 'down':\n",
        "            x = min(self.h-1,x+1)   # 아래로 이동, x 좌표가 1 증가, Grid를 벗어나면 이동하지 않음\n",
        "        elif action == 'left':\n",
        "            y = max(0,y-1)          # 왼쪽으로 이동, y 좌표가 1 감소, Grid를 벗어나면 이동하지 않음\n",
        "        else:\n",
        "            y = min(self.w-1,y+1)   # 오른쪽으로 이동, y 좌표가 1 증가, Grid를 벗어나면 이동하지 않음\n",
        "\n",
        "        self.state = (x,y)                  # 이동할 위치 저장(아직 이동하지 않았음)\n",
        "        reward = self.grid[self.state]      # Reward는 Grid에서 이동할 위치의 값\n",
        "        done = self.state == self.goal_state    # 이동할 위치와 목표 좌표가 같으면 True를, 아니면 False를 done에 할당\n",
        "        return self.state, reward, done     # 이동할 위치, 보상, 종료 여부 반환\n",
        "\n"
      ],
      "metadata": {
        "id": "r-SRKP2bWOx_"
      },
      "execution_count": 8,
      "outputs": []
    },
    {
      "cell_type": "code",
      "source": [
        "class QLearningAgent:                                           # Q Learning을 진행할 Agent class 선언\n",
        "    def __init__(self, grid_world,w,h, alpha, gamma, epsilon):  # Grid, Grid의 가로, 세로, alpha, gamma, epsilon parameter를 parameter로 받음\n",
        "        self.grid_world = grid_world\n",
        "        self.alpha = alpha\n",
        "        self.gamma = gamma\n",
        "        self.epsilon = epsilon\n",
        "        self.w = w\n",
        "        self.h = h\n",
        "        self.q_table = np.zeros((h,w,len(self.grid_world.actions))) # Grid와 같은 크기 Actions의 개수 만큼의 좌표를 가지는 차원 추가\n",
        "\n",
        "    def choose_action(self, state):                         # Action 선택 함수, 위치를 입력 받음\n",
        "        if random.uniform(0,1) < self.epsilon:              # eplison 값보다 작으면\n",
        "            return random.choice(self.grid_world.actions)   # Action을 무작위로 선택\n",
        "        else:                                                   # 그렇지 않으면\n",
        "            state_q_values = self.q_table[state[0],state[1]]    # 주어진 좌표에서 Action에 따른 Q-Value를 가져와서\n",
        "            return self.grid_world.actions[np.argmax(state_q_values)]   # 그 중 가장 Q-Value를 가지는 Action을 선택\n",
        "\n",
        "    def update_q_value(self, state, action, reward, next_state):            # Q-Value(Q-Table) 업데이트 함수, 위치, Action, 보상, 다음 위치를 입력받음\n",
        "        action_index = self.grid_world.actions.index(action)                # Action의 Actions 목록에서의 Index 반환\n",
        "        best_next_action = np.argmax(self.q_table[next_state[0],next_state[1]]) # 다음 위치에서 가장 Q-Value가 큰 Action을 구함\n",
        "        td_target = reward + self.gamma * self.q_table[next_state[0],next_state[1],best_next_action] # Temporal Difference\n",
        "                                                                            # 현재 위치의 보상과 다음 위치에서 가장 큰 Q-Value에 gamma를 곱한 값을 더함\n",
        "        td_error = td_target - self.q_table[state[0],state[1],action_index] # 그 값과 현재 위치에서 현재 Action의 Q-Value를 뺌\n",
        "        self.q_table[state[0],state[1],action_index] += self.alpha * td_error # 현재 위치에서 현재 Action의 Q-Value와 위 값에 alpha를 곱한 값을 더함\n",
        "\n",
        "    def train(self,episodes):               # 학습 함수 선언, 반복 수 입력 받음\n",
        "        for _ in tqdm(range(episodes),desc=\"Training Episodes\"):    # 진행도 시각화를 위한 tqdm method 사용\n",
        "            state = self.grid_world.reset()                         # Grid에서 시작 위치 초기화\n",
        "            done = False                                            # 종료 여부를 '아니오'로\n",
        "            while not done:                                         # 종료될 때까지\n",
        "                action = self.choose_action(state)                  # 현재 위치에서 현재 Action 선택\n",
        "                next_state,reward,done = self.grid_world.step(action)   # Action에 따른 이동할 위치, 보상, 종료 여부 계산\n",
        "                self.update_q_value(state,action,reward,next_state)     # 현재 위치와 Action, 보상, 이동할 위치를 이용해 Q-Value(Q-Table) Update\n",
        "                state = next_state                                  # 위치 이동\n",
        "\n",
        "    def get_q_table(self):\n",
        "        return self.q_table     # Q-Table 반환\n",
        "\n",
        "# 다음 위치에서 Q-Value 가장 큰 Action 여러개면 랜덤 선택하도록 변경해야함 np.argmax\n",
        "# grid에 목적지 여러개 고민: 보상을 여러개 줄지, 목적지 하나씩 Q-table을 만들고 합칠지?\n",
        "\n",
        "# grid로 좌표a에서 좌표b로 이동 가능 여부 map 그리기 (좌표 * 좌표) matrix\n",
        "#\n",
        "\n"
      ],
      "metadata": {
        "id": "ntmydoNqXtM1"
      },
      "execution_count": 9,
      "outputs": []
    },
    {
      "cell_type": "markdown",
      "source": [
        "![Q Value updating formula.png](data:image/png;base64,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)"
      ],
      "metadata": {
        "id": "uco6NCbJQ8Ni"
      }
    },
    {
      "cell_type": "code",
      "source": [
        "w = 5\n",
        "h = 5\n",
        "\n",
        "alpha = 0.9\n",
        "gamma = 0.75\n",
        "epsilon = 0.25\n",
        "\n",
        "grid_world = Grid(w,h,0,0,4,4)\n",
        "agent = QLearningAgent(grid_world,w,h,alpha, gamma, epsilon)"
      ],
      "metadata": {
        "id": "rqkUUAPAcXAx"
      },
      "execution_count": 10,
      "outputs": []
    },
    {
      "cell_type": "code",
      "source": [
        "agent.get_q_table()\n",
        "# grid_world.actions"
      ],
      "metadata": {
        "colab": {
          "base_uri": "https://localhost:8080/"
        },
        "id": "XWhGDJGshjNZ",
        "outputId": "edc3222d-1189-436c-e3f9-962c1fae6d91"
      },
      "execution_count": 11,
      "outputs": [
        {
          "output_type": "execute_result",
          "data": {
            "text/plain": [
              "array([[[0., 0., 0., 0.],\n",
              "        [0., 0., 0., 0.],\n",
              "        [0., 0., 0., 0.],\n",
              "        [0., 0., 0., 0.],\n",
              "        [0., 0., 0., 0.]],\n",
              "\n",
              "       [[0., 0., 0., 0.],\n",
              "        [0., 0., 0., 0.],\n",
              "        [0., 0., 0., 0.],\n",
              "        [0., 0., 0., 0.],\n",
              "        [0., 0., 0., 0.]],\n",
              "\n",
              "       [[0., 0., 0., 0.],\n",
              "        [0., 0., 0., 0.],\n",
              "        [0., 0., 0., 0.],\n",
              "        [0., 0., 0., 0.],\n",
              "        [0., 0., 0., 0.]],\n",
              "\n",
              "       [[0., 0., 0., 0.],\n",
              "        [0., 0., 0., 0.],\n",
              "        [0., 0., 0., 0.],\n",
              "        [0., 0., 0., 0.],\n",
              "        [0., 0., 0., 0.]],\n",
              "\n",
              "       [[0., 0., 0., 0.],\n",
              "        [0., 0., 0., 0.],\n",
              "        [0., 0., 0., 0.],\n",
              "        [0., 0., 0., 0.],\n",
              "        [0., 0., 0., 0.]]])"
            ]
          },
          "metadata": {},
          "execution_count": 11
        }
      ]
    },
    {
      "cell_type": "code",
      "source": [
        "agent.train(100000)\n",
        "print()\n",
        "Q_table = agent.get_q_table()"
      ],
      "metadata": {
        "colab": {
          "base_uri": "https://localhost:8080/"
        },
        "id": "nHQxpCD8dWfC",
        "outputId": "6de1b979-610a-4a3a-da3d-2ffb12538009"
      },
      "execution_count": 12,
      "outputs": [
        {
          "output_type": "stream",
          "name": "stderr",
          "text": [
            "Training Episodes: 100%|██████████| 100000/100000 [00:13<00:00, 7389.24it/s]"
          ]
        },
        {
          "output_type": "stream",
          "name": "stdout",
          "text": [
            "\n"
          ]
        },
        {
          "output_type": "stream",
          "name": "stderr",
          "text": [
            "\n"
          ]
        }
      ]
    },
    {
      "cell_type": "code",
      "source": [
        "# Q_table은 (가로,세로,행동)의 차원임\n",
        "# table을 확인하기에 직관적이지 않음\n",
        "# (행동, 가로, 세로) 차원으로 Convert\n",
        "\n",
        "Q_table_actions = []\n",
        "for i in range(4):\n",
        "    action_table = []\n",
        "    for j in range(h):\n",
        "        row = []\n",
        "        for k in range(w):\n",
        "            q_value = round(Q_table[j][k][i],2)\n",
        "            row.append(q_value)\n",
        "        action_table.append(row)\n",
        "    Q_table_actions.append(action_table)\n",
        "\n",
        "\n"
      ],
      "metadata": {
        "id": "M8r6u2Cvd1nZ"
      },
      "execution_count": 16,
      "outputs": []
    },
    {
      "cell_type": "code",
      "source": [
        "Q_table_actions"
      ],
      "metadata": {
        "colab": {
          "base_uri": "https://localhost:8080/"
        },
        "id": "WsyYJb6CmE3t",
        "outputId": "ab3b61c0-a8fc-4eb7-9550-2034f17f8c72"
      },
      "execution_count": 18,
      "outputs": [
        {
          "output_type": "execute_result",
          "data": {
            "text/plain": [
              "[[[10.01, 13.35, 17.8, 23.73, 31.64],\n",
              "  [10.01, 13.35, 17.8, 23.73, 31.64],\n",
              "  [13.35, 17.8, 23.73, 31.64, 42.19],\n",
              "  [17.8, 23.73, 31.64, 42.19, 56.25],\n",
              "  [23.73, 31.64, 42.19, 56.25, 0.0]],\n",
              " [[13.35, 17.8, 23.73, 31.64, 42.19],\n",
              "  [17.8, 23.73, 31.64, 42.19, 56.25],\n",
              "  [23.73, 31.64, 42.19, 56.25, 75.0],\n",
              "  [31.64, 42.19, 56.25, 75.0, 100.0],\n",
              "  [31.64, 42.19, 56.25, 75.0, 0.0]],\n",
              " [[10.01, 10.01, 13.35, 17.8, 23.73],\n",
              "  [13.35, 13.35, 17.8, 23.73, 31.64],\n",
              "  [17.8, 17.8, 23.73, 31.64, 42.19],\n",
              "  [23.73, 23.73, 31.64, 42.19, 56.25],\n",
              "  [31.64, 31.64, 42.19, 56.25, 0.0]],\n",
              " [[13.35, 17.8, 23.73, 31.64, 31.64],\n",
              "  [17.8, 23.73, 31.64, 42.19, 42.19],\n",
              "  [23.73, 31.64, 42.19, 56.25, 56.25],\n",
              "  [31.64, 42.19, 56.25, 75.0, 75.0],\n",
              "  [42.19, 56.25, 75.0, 100.0, 0.0]]]"
            ]
          },
          "metadata": {},
          "execution_count": 18
        }
      ]
    },
    {
      "cell_type": "code",
      "source": [
        "Q_table"
      ],
      "metadata": {
        "id": "oeKVG_59mGZF",
        "colab": {
          "base_uri": "https://localhost:8080/"
        },
        "outputId": "5054ae66-4654-4810-a0ac-dfcc7f596f40"
      },
      "execution_count": 15,
      "outputs": [
        {
          "output_type": "execute_result",
          "data": {
            "text/plain": [
              "array([[[ 10.0112915 ,  13.34838867,  10.0112915 ,  13.34838867],\n",
              "        [ 13.34838867,  17.79785156,  10.0112915 ,  17.79785156],\n",
              "        [ 17.79785156,  23.73046875,  13.34838867,  23.73046875],\n",
              "        [ 23.73046875,  31.640625  ,  17.79785156,  31.640625  ],\n",
              "        [ 31.640625  ,  42.1875    ,  23.73046875,  31.640625  ]],\n",
              "\n",
              "       [[ 10.0112915 ,  17.79785156,  13.34838867,  17.79785156],\n",
              "        [ 13.34838867,  23.73046875,  13.34838867,  23.73046875],\n",
              "        [ 17.79785156,  31.640625  ,  17.79785156,  31.640625  ],\n",
              "        [ 23.73046875,  42.1875    ,  23.73046875,  42.1875    ],\n",
              "        [ 31.640625  ,  56.25      ,  31.640625  ,  42.1875    ]],\n",
              "\n",
              "       [[ 13.34838867,  23.73046875,  17.79785156,  23.73046875],\n",
              "        [ 17.79785156,  31.640625  ,  17.79785156,  31.640625  ],\n",
              "        [ 23.73046875,  42.1875    ,  23.73046875,  42.1875    ],\n",
              "        [ 31.640625  ,  56.25      ,  31.640625  ,  56.25      ],\n",
              "        [ 42.1875    ,  75.        ,  42.1875    ,  56.25      ]],\n",
              "\n",
              "       [[ 17.79785156,  31.640625  ,  23.73046875,  31.640625  ],\n",
              "        [ 23.73046875,  42.1875    ,  23.73046875,  42.1875    ],\n",
              "        [ 31.640625  ,  56.25      ,  31.640625  ,  56.25      ],\n",
              "        [ 42.1875    ,  75.        ,  42.1875    ,  75.        ],\n",
              "        [ 56.25      , 100.        ,  56.25      ,  75.        ]],\n",
              "\n",
              "       [[ 23.73046875,  31.640625  ,  31.640625  ,  42.1875    ],\n",
              "        [ 31.640625  ,  42.1875    ,  31.640625  ,  56.25      ],\n",
              "        [ 42.1875    ,  56.25      ,  42.1875    ,  75.        ],\n",
              "        [ 56.25      ,  75.        ,  56.25      , 100.        ],\n",
              "        [  0.        ,   0.        ,   0.        ,   0.        ]]])"
            ]
          },
          "metadata": {},
          "execution_count": 15
        }
      ]
    },
    {
      "cell_type": "code",
      "source": [
        "import matplotlib.pyplot as plt\n",
        "import pygame"
      ],
      "metadata": {
        "colab": {
          "base_uri": "https://localhost:8080/"
        },
        "id": "vPREkFeOZkib",
        "outputId": "3d119ef5-e29c-4485-8693-77e37021821b"
      },
      "execution_count": 21,
      "outputs": [
        {
          "output_type": "stream",
          "name": "stdout",
          "text": [
            "pygame 2.5.2 (SDL 2.28.2, Python 3.10.12)\n",
            "Hello from the pygame community. https://www.pygame.org/contribute.html\n"
          ]
        }
      ]
    },
    {
      "cell_type": "code",
      "source": [
        "# Visualization Try 1\n",
        "\n",
        "def plot_q_values(q_values):\n",
        "    fig, ax = plt.subplots()\n",
        "    ax.set_xticks(np.arange(len(q_values[0])) + 0.5, minor=True)\n",
        "    ax.set_yticks(np.arange(len(q_values)) + 0.5, minor=True)\n",
        "    ax.grid(which=\"minor\", color=\"black\", linestyle='-', linewidth=2)\n",
        "    ax.tick_params(which=\"minor\", size=0)\n",
        "\n",
        "    # 색상과 값을 각 셀에 플로팅\n",
        "    for i in range(len(q_values)):\n",
        "        for j in range(len(q_values[i])):\n",
        "            cell = q_values[i][j]\n",
        "            if np.all(cell == 0):\n",
        "                color = \"gray\"\n",
        "            else:\n",
        "                color = \"white\"\n",
        "            ax.add_patch(plt.Rectangle((j, i), 1, 1, fill=True, color=color, edgecolor='black'))\n",
        "            ax.text(j + 0.5, i + 0.75, f'{cell[0]:.2f}', ha='center', va='center', color='black')\n",
        "            ax.text(j + 0.75, i + 0.5, f'{cell[1]:.2f}', ha='center', va='center', color='black')\n",
        "            ax.text(j + 0.5, i + 0.25, f'{cell[2]:.2f}', ha='center', va='center', color='black')\n",
        "            ax.text(j + 0.25, i + 0.5, f'{cell[3]:.2f}', ha='center', va='center', color='black')\n",
        "\n",
        "    plt.gca().invert_yaxis()\n",
        "    plt.show()\n",
        "\n",
        "# Q-values 예제 데이터 (5x5 그리드, 각 셀마다 4개의 행동에 대한 Q-value)\n",
        "q_values = np.array([\n",
        "    [[0.00, 0.00, 0.00, 0.00], [0.00, 0.05, 0.00, 0.00], [0.00, 0.25, 0.00, 0.00], [0.00, 0.00, 0.62, 0.00], [0.94, 0.00, 0.00, 0.00]],\n",
        "    [[0.00, 0.00, 0.00, 0.00], [0.00, 0.00, 0.00, 0.00], [0.00, 0.00, 0.00, 0.00], [0.00, 0.00, 0.00, 0.00], [0.00, 0.00, 0.00, 0.00]],\n",
        "    [[0.00, 0.00, 0.00, 0.00], [0.00, 0.00, 0.00, 0.00], [0.00, 0.00, 0.00, 0.00], [0.00, 0.00, 0.00, 0.00], [0.00, 0.00, 0.00, 0.00]],\n",
        "    [[0.00, 0.00, 0.00, 0.00], [0.00, 0.00, 0.00, 0.00], [0.00, 0.00, 0.00, 0.00], [0.00, 0.00, 0.00, 0.00], [0.00, 0.00, 0.00, 0.00]],\n",
        "    [[0.00, 0.00, 0.00, 0.00], [0.00, 0.00, 0.00, 0.00], [0.00, 0.00, 0.00, 0.00], [0.00, 0.00, 0.00, 0.00], [0.00, 0.00, 0.00, 0.00]],\n",
        "])\n",
        "\n",
        "plot_q_values(q_values)"
      ],
      "metadata": {
        "colab": {
          "base_uri": "https://localhost:8080/",
          "height": 476
        },
        "id": "InrlA5j7azLA",
        "outputId": "a3c4cdbe-1262-4c86-b69a-b3e8f2390f6c"
      },
      "execution_count": 20,
      "outputs": [
        {
          "output_type": "stream",
          "name": "stderr",
          "text": [
            "<ipython-input-20-c29ba448105a>:16: UserWarning: Setting the 'color' property will override the edgecolor or facecolor properties.\n",
            "  ax.add_patch(plt.Rectangle((j, i), 1, 1, fill=True, color=color, edgecolor='black'))\n"
          ]
        },
        {
          "output_type": "display_data",
          "data": {
            "text/plain": [
              "<Figure size 640x480 with 1 Axes>"
            ],
            "image/png": "[encoded data removed]"
          },
          "metadata": {}
        }
      ]
    },
    {
      "cell_type": "code",
      "source": [
        "# Visualization Try 2\n",
        "\n",
        "# 초기 설정\n",
        "pygame.init()\n",
        "width, height = 600, 600\n",
        "rows, cols = 5, 5\n",
        "cell_size = width // cols\n",
        "screen = pygame.display.set_mode((width, height))\n",
        "font = pygame.font.SysFont(None, 24)\n",
        "pygame.display.set_caption('Q-values Visualization')\n",
        "\n",
        "# Q-values 예제 데이터 (5x5 그리드, 각 셀마다 4개의 행동에 대한 Q-value)\n",
        "q_values = np.array([\n",
        "    [[0.00, 0.00, 0.00, 0.00], [0.00, 0.05, 0.00, 0.00], [0.00, 0.25, 0.00, 0.00], [0.00, 0.00, 0.62, 0.00], [0.94, 0.00, 0.00, 0.00]],\n",
        "    [[0.00, 0.00, 0.00, 0.00], [0.00, 0.00, 0.00, 0.00], [0.00, 0.00, 0.00, 0.00], [0.00, 0.00, 0.00, 0.00], [0.00, 0.00, 0.00, 0.00]],\n",
        "    [[0.00, 0.00, 0.00, 0.00], [0.00, 0.00, 0.00, 0.00], [0.00, 0.00, 0.00, 0.00], [0.00, 0.00, 0.00, 0.00], [0.00, 0.00, 0.00, 0.00]],\n",
        "    [[0.00, 0.00, 0.00, 0.00], [0.00, 0.00, 0.00, 0.00], [0.00, 0.00, 0.00, 0.00], [0.00, 0.00, 0.00, 0.00], [0.00, 0.00, 0.00, 0.00]],\n",
        "    [[0.00, 0.00, 0.00, 0.00], [0.00, 0.00, 0.00, 0.00], [0.00, 0.00, 0.00, 0.00], [0.00, 0.00, 0.00, 0.00], [0.00, 0.00, 0.00, 0.00]],\n",
        "])\n",
        "\n",
        "def draw_q_values():\n",
        "    for i in range(rows):\n",
        "        for j in range(cols):\n",
        "            cell = q_values[i][j]\n",
        "            x, y = j * cell_size, i * cell_size\n",
        "            pygame.draw.rect(screen, (255, 255, 255), (x, y, cell_size, cell_size), 1)\n",
        "            pygame.draw.line(screen, (0, 0, 0), (x, y), (x + cell_size, y + cell_size))\n",
        "            pygame.draw.line(screen, (0, 0, 0), (x + cell_size, y), (x, y + cell_size))\n",
        "\n",
        "            # 행동 Q-values 그리기 (위, 오른쪽, 아래, 왼쪽)\n",
        "            if cell[0] != 0:\n",
        "                text = font.render(f'{cell[0]:.2f}', True, (0, 0, 0))\n",
        "                screen.blit(text, (x + cell_size // 2 - text.get_width() // 2, y + 5))\n",
        "            if cell[1] != 0:\n",
        "                text = font.render(f'{cell[1]:.2f}', True, (0, 0, 0))\n",
        "                screen.blit(text, (x + cell_size - text.get_width() - 5, y + cell_size // 2 - text.get_height() // 2))\n",
        "            if cell[2] != 0:\n",
        "                text = font.render(f'{cell[2]:.2f}', True, (0, 0, 0))\n",
        "                screen.blit(text, (x + cell_size // 2 - text.get_width() // 2, y + cell_size - text.get_height() - 5))\n",
        "            if cell[3] != 0:\n",
        "                text = font.render(f'{cell[3]:.2f}', True, (0, 0, 0))\n",
        "                screen.blit(text, (x + 5, y + cell_size // 2 - text.get_height() // 2))\n",
        "\n",
        "running = True\n",
        "while running:\n",
        "    screen.fill((0, 0, 0))\n",
        "    draw_q_values()\n",
        "    pygame.display.flip()\n",
        "\n",
        "    for event in pygame.event.get():\n",
        "        if event.type == pygame.QUIT:\n",
        "            running = False\n",
        "\n",
        "pygame.quit()\n"
      ],
      "metadata": {
        "id": "KEwhi1uUa1Eg"
      },
      "execution_count": null,
      "outputs": []
    },
    {
      "cell_type": "code",
      "source": [],
      "metadata": {
        "id": "q4ACuTYwbWkG"
      },
      "execution_count": null,
      "outputs": []
    }
  ]
}